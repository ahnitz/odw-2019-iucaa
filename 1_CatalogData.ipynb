{
 "cells": [
  {
   "cell_type": "markdown",
   "metadata": {},
   "source": [
    "## 1. PyCBC Tutorial: Accessing the Catalog of Binary Mergers and LIGO/Virgo Open Data\n",
    "\n",
    "We will be using the [PyCBC](http://github.com/ligo-cbc/pycbc) library, which is used to study gravitational-wave data, find astrophysical sources due to compact binary mergers, and study their parameters. These are some of the same tools that the LIGO and Virgo collaborations use to find gravitational waves in LIGO/Virgo data \n",
    "\n",
    "In this tutorial we will walk through how to get information about the catalog of binary mergers programmatically, and also how to read in detector strain data around each event, or from the full open data set released for LIGO's first observing run.\n",
    "\n",
    "Additional [examples](http://pycbc.org/pycbc/latest/html/#library-examples-and-interactive-tutorials) and module level documentation are [here](http://pycbc.org/pycbc/latest/html/py-modindex.html)"
   ]
  },
  {
   "cell_type": "markdown",
   "metadata": {},
   "source": [
    "#### Getting the software environment setup\n",
    "\n",
    "PyCBC is installable through pip, but also relies on portions of the [LALSuite](https://git.ligo.org/lscsoft/lalsuite) c-library. A bundled version of this suitable for use with PyCBC is also available on Mac / Linux through pip. These can be installed as follows within the notebook."
   ]
  },
  {
   "cell_type": "code",
   "execution_count": 3,
   "metadata": {},
   "outputs": [
    {
     "name": "stdout",
     "output_type": "stream",
     "text": [
      "Requirement already satisfied: pycbc in /home/ahnitz/projects/venv3/lib/python3.7/site-packages/PyCBC-1.14.dev5-py3.7-linux-x86_64.egg (1.14.dev5)\n",
      "Requirement already satisfied: lalsuite in /home/ahnitz/projects/venv3/lib/python3.7/site-packages (6.62)\n",
      "Collecting ligo-common\n",
      "  Downloading https://files.pythonhosted.org/packages/a6/9c/1fbe176feea9abad5c0f3fa090dcffccf44bbcba0f0c754b03d8fea1a36e/ligo_common-1.0.3-py2.py3-none-any.whl\n",
      "Requirement already satisfied: Mako>=1.0.1 in /home/ahnitz/projects/venv3/lib/python3.7/site-packages (from pycbc) (1.1.0)\n",
      "Requirement already satisfied: cython in /home/ahnitz/projects/venv3/lib/python3.7/site-packages (from pycbc) (0.29.14)\n",
      "Requirement already satisfied: decorator>=3.4.2 in /home/ahnitz/projects/venv3/lib/python3.7/site-packages (from pycbc) (4.4.1)\n",
      "Requirement already satisfied: matplotlib>=1.5.1 in /home/ahnitz/projects/venv3/lib/python3.7/site-packages (from pycbc) (3.1.2)\n",
      "Requirement already satisfied: pillow in /home/ahnitz/projects/venv3/lib/python3.7/site-packages (from pycbc) (6.2.1)\n",
      "Requirement already satisfied: h5py>=2.5 in /home/ahnitz/projects/venv3/lib/python3.7/site-packages (from pycbc) (2.9.0)\n",
      "Requirement already satisfied: jinja2 in /home/ahnitz/projects/venv3/lib/python3.7/site-packages (from pycbc) (2.10.3)\n",
      "Requirement already satisfied: mpld3>=0.3 in /home/ahnitz/projects/venv3/lib/python3.7/site-packages (from pycbc) (0.3)\n",
      "Requirement already satisfied: lscsoft-glue>=1.59.3 in /home/ahnitz/projects/venv3/lib/python3.7/site-packages (from pycbc) (2.0.0)\n",
      "Requirement already satisfied: emcee==2.2.1 in /home/ahnitz/projects/venv3/lib/python3.7/site-packages (from pycbc) (2.2.1)\n",
      "Requirement already satisfied: requests>=1.2.1 in /home/ahnitz/projects/venv3/lib/python3.7/site-packages (from pycbc) (2.22.0)\n",
      "Requirement already satisfied: beautifulsoup4>=4.6.0 in /home/ahnitz/projects/venv3/lib/python3.7/site-packages (from pycbc) (4.8.1)\n",
      "Requirement already satisfied: six>=1.10.0 in /home/ahnitz/projects/venv3/lib/python3.7/site-packages (from pycbc) (1.13.0)\n",
      "Requirement already satisfied: ligo-segments in /home/ahnitz/projects/venv3/lib/python3.7/site-packages (from pycbc) (1.2.0)\n",
      "Requirement already satisfied: tqdm in /home/ahnitz/projects/venv3/lib/python3.7/site-packages (from pycbc) (4.39.0)\n",
      "Requirement already satisfied: numpy>=1.13.0 in /home/ahnitz/projects/venv3/lib/python3.7/site-packages (from pycbc) (1.17.4)\n",
      "Requirement already satisfied: astropy>=2.0.3 in /home/ahnitz/projects/venv3/lib/python3.7/site-packages (from pycbc) (3.2.3)\n",
      "Requirement already satisfied: scipy>=0.16.0 in /home/ahnitz/projects/venv3/lib/python3.7/site-packages (from pycbc) (1.3.3)\n",
      "Requirement already satisfied: python-dateutil in /home/ahnitz/projects/venv3/lib/python3.7/site-packages (from lalsuite) (2.8.1)\n",
      "Requirement already satisfied: MarkupSafe>=0.9.2 in /home/ahnitz/projects/venv3/lib/python3.7/site-packages (from Mako>=1.0.1->pycbc) (1.0)\n",
      "Requirement already satisfied: pyparsing!=2.0.4,!=2.1.2,!=2.1.6,>=2.0.1 in /home/ahnitz/projects/venv3/lib/python3.7/site-packages (from matplotlib>=1.5.1->pycbc) (2.4.5)\n",
      "Requirement already satisfied: cycler>=0.10 in /home/ahnitz/projects/venv3/lib/python3.7/site-packages (from matplotlib>=1.5.1->pycbc) (0.10.0)\n",
      "Requirement already satisfied: kiwisolver>=1.0.1 in /home/ahnitz/projects/venv3/lib/python3.7/site-packages (from matplotlib>=1.5.1->pycbc) (1.1.0)\n",
      "Requirement already satisfied: pyOpenSSL in /home/ahnitz/projects/venv3/lib/python3.7/site-packages (from lscsoft-glue>=1.59.3->pycbc) (19.1.0)\n",
      "Requirement already satisfied: chardet<3.1.0,>=3.0.2 in /home/ahnitz/projects/venv3/lib/python3.7/site-packages (from requests>=1.2.1->pycbc) (3.0.4)\n",
      "Requirement already satisfied: urllib3!=1.25.0,!=1.25.1,<1.26,>=1.21.1 in /home/ahnitz/projects/venv3/lib/python3.7/site-packages (from requests>=1.2.1->pycbc) (1.25.7)\n",
      "Requirement already satisfied: idna<2.9,>=2.5 in /home/ahnitz/projects/venv3/lib/python3.7/site-packages (from requests>=1.2.1->pycbc) (2.8)\n",
      "Requirement already satisfied: certifi>=2017.4.17 in /home/ahnitz/projects/venv3/lib/python3.7/site-packages (from requests>=1.2.1->pycbc) (2019.9.11)\n",
      "Requirement already satisfied: soupsieve>=1.2 in /home/ahnitz/projects/venv3/lib/python3.7/site-packages (from beautifulsoup4>=4.6.0->pycbc) (1.9.5)\n",
      "Requirement already satisfied: setuptools in /home/ahnitz/projects/venv3/lib/python3.7/site-packages (from kiwisolver>=1.0.1->matplotlib>=1.5.1->pycbc) (42.0.1)\n",
      "Requirement already satisfied: cryptography>=2.8 in /home/ahnitz/projects/venv3/lib/python3.7/site-packages (from pyOpenSSL->lscsoft-glue>=1.59.3->pycbc) (2.8)\n",
      "Requirement already satisfied: cffi!=1.11.3,>=1.8 in /home/ahnitz/projects/venv3/lib/python3.7/site-packages (from cryptography>=2.8->pyOpenSSL->lscsoft-glue>=1.59.3->pycbc) (1.13.2)\n",
      "Requirement already satisfied: pycparser in /home/ahnitz/projects/venv3/lib/python3.7/site-packages (from cffi!=1.11.3,>=1.8->cryptography>=2.8->pyOpenSSL->lscsoft-glue>=1.59.3->pycbc) (2.19)\n",
      "Installing collected packages: ligo-common\n",
      "Successfully installed ligo-common-1.0.3\n"
     ]
    }
   ],
   "source": [
    "import sys\n",
    "!{sys.executable} -m pip install pycbc lalsuite ligo-common --no-cache-dir"
   ]
  },
  {
   "cell_type": "markdown",
   "metadata": {},
   "source": [
    "### 1.1 Catalog of Binary Mergers\n",
    "\n",
    "PyCBC provides an [API](http://pycbc.org/pycbc/latest/html/catalog.html) to look at the catalog of binary mergers a few examples below. Some key information, such as the 'chirp' mass of a binary merge can be retrieved."
   ]
  },
  {
   "cell_type": "markdown",
   "metadata": {},
   "source": [
    "#### What binary mergers are in the catalog? ####"
   ]
  },
  {
   "cell_type": "code",
   "execution_count": 4,
   "metadata": {},
   "outputs": [
    {
     "name": "stdout",
     "output_type": "stream",
     "text": [
      "GW150914\n",
      "GW151012\n",
      "GW151226\n",
      "GW170104\n",
      "GW170608\n",
      "GW170729\n",
      "GW170809\n",
      "GW170814\n",
      "GW170817\n",
      "GW170818\n",
      "GW170823\n"
     ]
    }
   ],
   "source": [
    "from pycbc import catalog\n",
    "\n",
    "### List the mergers in the catalog\n",
    "for merger_name in catalog.Catalog():\n",
    "    print(merger_name)"
   ]
  },
  {
   "cell_type": "markdown",
   "metadata": {},
   "source": [
    "#### How can I get parameters? ####\n",
    "\n",
    "One can also retrieve some of the basic parameters of each source\n",
    "from the catalog directly as follows. Note that all parameters are given\n",
    "in the *source* frame. This means that they include the effect of redshift."
   ]
  },
  {
   "cell_type": "code",
   "execution_count": 5,
   "metadata": {},
   "outputs": [
    {
     "name": "stdout",
     "output_type": "stream",
     "text": [
      "[28.6   15.2    8.9   21.5    7.9   35.7   25.    24.2    1.186 26.7\n",
      " 29.3  ]\n",
      "GW170817: 1.186\n",
      "dict_keys(['E_rad', 'L_peak', 'a_final', 'chi_eff', 'distance', 'far_cwb', 'far_gstlal', 'far_pycbc', 'files', 'mass1', 'mass2', 'mchirp', 'mfinal', 'redshift', 'sky_size', 'snr_cwb', 'snr_gstlal', 'snr_pycbc', 'tc', 'utctime'])\n"
     ]
    }
   ],
   "source": [
    "# Either from the catalog as a whole\n",
    "c = catalog.Catalog()\n",
    "mchirp = c.median1d('mchirp')\n",
    "print(mchirp)\n",
    "\n",
    "# or from a specific merger\n",
    "m = catalog.Merger(\"GW170817\")\n",
    "mchirp_gw170817 = m.median1d('mchirp')\n",
    "print('GW170817: {}'.format(mchirp_gw170817))\n",
    "\n",
    "# print parameters that can be read\n",
    "print(m.data.keys())"
   ]
  },
  {
   "cell_type": "markdown",
   "metadata": {},
   "source": [
    "#### Transform Mass Parameters into the Detector Frame\n",
    "\n",
    "By default the above interface returns parameters in the *source* frame. Due to cosmological redshift, gravitational-waves are stretched as they travel. This causes the observed waveform to be different in the detector frame. This corresponds to an observed change in the mass parameters (for example). However, the relationship is fairly straighforward."
   ]
  },
  {
   "cell_type": "code",
   "execution_count": 6,
   "metadata": {},
   "outputs": [
    {
     "name": "stdout",
     "output_type": "stream",
     "text": [
      "Chirp Mass of GW150914\n",
      "Source Frame: 28.6 Solar Masses\n",
      "Detector Frame: 31.174000000000003 Solar Masses\n"
     ]
    }
   ],
   "source": [
    "m = catalog.Merger('GW150914')\n",
    "source_mchirp = m.median1d('mchirp')\n",
    "redshift = m.median1d('redshift')\n",
    "det_mchirp = source_mchirp * (1 + redshift)\n",
    "\n",
    "print('Chirp Mass of GW150914')\n",
    "print('Source Frame: {} Solar Masses'.format(source_mchirp))\n",
    "print('Detector Frame: {} Solar Masses'.format(det_mchirp))"
   ]
  },
  {
   "cell_type": "markdown",
   "metadata": {},
   "source": [
    "### 1.2 Accessing LIGO/Virgo data\n",
    "\n",
    "In this section, we will look into how to read detector data from the LIGO and Virgo instruments using the PyCBC API. It is possible to both get data around specific events, and also from the full data sets which have been released which cover the S5/S6/O1 LIGO observing runs. Data will be returned as [pycbc TimeSeries objects.](http://pycbc.org/pycbc/latest/html/pycbc.types.html#pycbc.types.timeseries.TimeSeries)"
   ]
  },
  {
   "cell_type": "markdown",
   "metadata": {},
   "source": [
    "#### Getting Data Around  Specific Binary Merger in the Catalog\n",
    "\n",
    "One can directly retrieve data around a specific even. Typically this data is centered on the event, though restrictions may apply which have not allowed this. This method by default gets the smallest version of the dataset. If additional data or specific versions are required, please see the following two additional ways to access data."
   ]
  },
  {
   "cell_type": "code",
   "execution_count": 7,
   "metadata": {},
   "outputs": [
    {
     "name": "stdout",
     "output_type": "stream",
     "text": [
      "Duration: 32.0s Start: 1126259447 End: 1126259479\n"
     ]
    },
    {
     "data": {
      "image/png": "[encoded data removed]",
      "text/plain": [
       "<Figure size 432x288 with 1 Axes>"
      ]
     },
     "metadata": {
      "needs_background": "light"
     },
     "output_type": "display_data"
    }
   ],
   "source": [
    "%matplotlib inline\n",
    "\n",
    "import pylab\n",
    "\n",
    "m = catalog.Merger(\"GW150914\")\n",
    "\n",
    "# Get the time series data around GW150914 from Hanford\n",
    "# 'ts_han' is a pycbc.types.TimeSeries object which contains\n",
    "# gravitational-wave strain in this instance and has metadata\n",
    "# such as the start time, and sample rate.\n",
    "ts_han = m.strain('H1')\n",
    "\n",
    "# And now livingston\n",
    "ts_liv = m.strain('L1')\n",
    "\n",
    "# We can see how much data was returned and its boundaries\n",
    "# Note: All times are given in seconds since the GPS time epoch\n",
    "print(\"Duration: {}s Start: {} End: {}\".format(ts_han.duration, \n",
    "                                              int(ts_han.start_time),\n",
    "                                              int(ts_han.end_time)))\n",
    "\n",
    "# We can directly plot the time series as follows\n",
    "pylab.plot(ts_han.sample_times, ts_han)\n",
    "pylab.ylabel('Strain')\n",
    "pylab.xlabel('Time (s)')\n",
    "pylab.show()"
   ]
  },
  {
   "cell_type": "markdown",
   "metadata": {},
   "source": [
    "#### Getting Data from S5 / S6 / O1\n",
    "\n",
    "In this section we show how to read data from the bulk data release by LIGO. This currently covers the periods of teh S5, S6, and O1 analyses."
   ]
  },
  {
   "cell_type": "code",
   "execution_count": null,
   "metadata": {},
   "outputs": [],
   "source": [
    "from pycbc.frame import query_and_read_frame\n",
    "\n",
    "# Retrieve the approximate time of the merger\n",
    "m = catalog.Merger(\"GW150914\")\n",
    "start = m.time - 32\n",
    "end = m.time + 32\n",
    "\n",
    "# Get 64 seconds of data roughly around GW150914\n",
    "# The start / end time may be any in the publicly available data sets.\n",
    "ts = query_and_read_frame('LOSC', 'H1:LOSC-STRAIN', start, end)\n",
    "\n",
    "# If we wanted to retreive data from the Livingston detector\n",
    "# we'd use the following command instead\n",
    "# ts = query_and_read_frame('LOSC', 'L1:LOSC-STRAIN', start, end)\n",
    "\n",
    "print(\"Returned {}s of data at {}Hz\".format(ts.duration, ts.sample_rate))"
   ]
  },
  {
   "cell_type": "markdown",
   "metadata": {},
   "source": [
    "#### Directly Reading gravitational-wave Frame Files\n",
    "\n",
    "If you store LIGO data on your own computer then you can directly read in the data as follows."
   ]
  },
  {
   "cell_type": "code",
   "execution_count": null,
   "metadata": {},
   "outputs": [],
   "source": [
    "# We'll first download some data for this demonstration\n",
    "!curl -O -J -L https://losc.ligo.org/s/events/LVT151012/H-H1_LOSC_4_V2-1128678884-32.gwf"
   ]
  },
  {
   "cell_type": "code",
   "execution_count": null,
   "metadata": {},
   "outputs": [],
   "source": [
    "from pycbc.frame import read_frame\n",
    "\n",
    "# Read the data directly from the Gravitational-Wave Frame (GWF) file.\n",
    "file_name = \"H-H1_LOSC_4_V2-1128678884-32.gwf\"\n",
    "\n",
    "# LOSC bulk data typically uses the same convention for internal channels names\n",
    "# Strain is typically IFO:LOSC-STRAIN, where IFO can be H1/L1/V1.\n",
    "channel_name = \"H1:LOSC-STRAIN\"\n",
    "\n",
    "start = 1128678884\n",
    "end = start + 32\n",
    "\n",
    "ts = read_frame(file_name, channel_name, start, end)"
   ]
  },
  {
   "cell_type": "markdown",
   "metadata": {},
   "source": [
    "### 1.3 When is data available? \n",
    "\n",
    "Below we'll give an example of how to get information about the state of the detector. In this case, the times that a detector are active. You can also query information about when hardware injections are, or when the detector data is vetoed by different data-quality tests. See documentation [here](https://pycbc.org/pycbc/latest/html/dataquality.html)"
   ]
  },
  {
   "cell_type": "code",
   "execution_count": null,
   "metadata": {},
   "outputs": [],
   "source": [
    "# Let's see when the detector was active.\n",
    "# Note that all units are in seconds and that the +\n",
    "from pycbc import dq\n",
    "import pylab\n",
    "\n",
    "start_time = 1126051217\n",
    "end_time = start_time + 100000\n",
    "\n",
    "# Get times that the Hanford detector has data\n",
    "hsegs = dq.query_flag('H1', 'DATA', start_time, end_time)\n",
    "\n",
    "# Get times that the Livingston detector has data\n",
    "lsegs = dq.query_flag('L1', 'DATA', start_time, end_time)\n",
    "\n",
    "pylab.figure(figsize=[10,2])\n",
    "for seg in lsegs:\n",
    "    start, end = seg\n",
    "    pylab.axvspan(start, end, color='green', ymin=0.1, ymax=0.4)\n",
    "\n",
    "for seg in hsegs:\n",
    "    start, end = seg\n",
    "    pylab.axvspan(start, end, color='red', ymin=0.6, ymax=0.9)\n",
    "\n",
    "pylab.xlabel('Time (s)')\n",
    "pylab.show()"
   ]
  },
  {
   "cell_type": "code",
   "execution_count": null,
   "metadata": {},
   "outputs": [],
   "source": []
  }
 ],
 "metadata": {
  "kernelspec": {
   "display_name": "Python 3",
   "language": "python",
   "name": "python3"
  },
  "language_info": {
   "codemirror_mode": {
    "name": "ipython",
    "version": 3
   },
   "file_extension": ".py",
   "mimetype": "text/x-python",
   "name": "python",
   "nbconvert_exporter": "python",
   "pygments_lexer": "ipython3",
   "version": "3.7.4"
  }
 },
 "nbformat": 4,
 "nbformat_minor": 2
}
